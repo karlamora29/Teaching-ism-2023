{
  "nbformat": 4,
  "nbformat_minor": 0,
  "metadata": {
    "colab": {
      "provenance": [],
      "include_colab_link": true
    },
    "kernelspec": {
      "name": "python3",
      "display_name": "Python 3"
    },
    "language_info": {
      "name": "python"
    }
  },
  "cells": [
    {
      "cell_type": "markdown",
      "metadata": {
        "id": "view-in-github",
        "colab_type": "text"
      },
      "source": [
        "<a href=\"https://colab.research.google.com/github/karlamora29/Teaching-ism-2023/blob/main/DATASET.ipynb\" target=\"_parent\"><img src=\"https://colab.research.google.com/assets/colab-badge.svg\" alt=\"Open In Colab\"/></a>"
      ]
    },
    {
      "cell_type": "code",
      "execution_count": null,
      "metadata": {
        "colab": {
          "base_uri": "https://localhost:8080/"
        },
        "id": "Gde5uItUQRDp",
        "outputId": "5a4c40f3-568f-48e3-bfaf-cc361757b8a9"
      },
      "outputs": [
        {
          "output_type": "stream",
          "name": "stdout",
          "text": [
            "Collecting einops\n",
            "  Downloading einops-0.7.0-py3-none-any.whl (44 kB)\n",
            "\u001b[?25l     \u001b[90m━━━━━━━━━━━━━━━━━━━━━━━━━━━━━━━━━━━━━━━━\u001b[0m \u001b[32m0.0/44.6 kB\u001b[0m \u001b[31m?\u001b[0m eta \u001b[36m-:--:--\u001b[0m\r\u001b[2K     \u001b[91m━━━━━━━━━━━━━━━━━━━━━━━━━━━\u001b[0m\u001b[91m╸\u001b[0m\u001b[90m━━━━━━━━━━━━\u001b[0m \u001b[32m30.7/44.6 kB\u001b[0m \u001b[31m785.8 kB/s\u001b[0m eta \u001b[36m0:00:01\u001b[0m\r\u001b[2K     \u001b[90m━━━━━━━━━━━━━━━━━━━━━━━━━━━━━━━━━━━━━━━━\u001b[0m \u001b[32m44.6/44.6 kB\u001b[0m \u001b[31m750.7 kB/s\u001b[0m eta \u001b[36m0:00:00\u001b[0m\n",
            "\u001b[?25hInstalling collected packages: einops\n",
            "Successfully installed einops-0.7.0\n"
          ]
        }
      ],
      "source": [
        "!pip install einops"
      ]
    },
    {
      "cell_type": "code",
      "source": [
        "import torch"
      ],
      "metadata": {
        "id": "ZN1uXT6zRAq2"
      },
      "execution_count": null,
      "outputs": []
    },
    {
      "cell_type": "code",
      "source": [
        "import numpy as np\n",
        "import random\n",
        "\n",
        "def generate_numbers(max_number=100, max_count=5):\n",
        "  number_of_numbers = np.random.randint(low=2, high=max_count+1)\n",
        "  numbers = np.random.randint(low=0, high=max_number, size=number_of_numbers)\n",
        "  return numbers"
      ],
      "metadata": {
        "id": "EqV4RnXoSKqN"
      },
      "execution_count": null,
      "outputs": []
    },
    {
      "cell_type": "markdown",
      "source": [
        "This function generates a list of random integers. The number of elements in the list varies between 2 and max_count, and each number is in the range of 0 to max_number - 1."
      ],
      "metadata": {
        "id": "8rUnWVybWxho"
      }
    },
    {
      "cell_type": "code",
      "source": [
        "operations = [\"-\", \"+\", \"*\"]\n",
        "def apply_operation_result(first_number, operation, second_number):\n",
        "  if operation == \"-\":\n",
        "    return first_number - second_number\n",
        "  if operation == \"+\":\n",
        "    return first_number + second_number\n",
        "  if operation == \"*\":\n",
        "    return first_number*second_number\n",
        "  else:\n",
        "    print(\"Operation: {}, does not exist please use -, +, or *!\")\n",
        "\n",
        "def apply_operation_string(first_number, operation, second_number):\n",
        "  if operation == \"-\":\n",
        "    return ''.join([str(first_number), \"-\", str(second_number)])\n",
        "  if operation == \"+\":\n",
        "    return ''.join([str(first_number), \"+\", str(second_number)])\n",
        "  if operation == \"*\":\n",
        "    return ''.join([str(first_number), \"*\", str(second_number)])\n",
        "  else:\n",
        "    print(\"Operation: {}, does not exist please use -, +, or *!\")"
      ],
      "metadata": {
        "id": "agE4LgILSMcj"
      },
      "execution_count": null,
      "outputs": []
    },
    {
      "cell_type": "code",
      "source": [
        "def generate_operations(sampled_numbers):\n",
        "  return [random.choice(operations) for _ in range(len(sampled_numbers)-1)]"
      ],
      "metadata": {
        "id": "vyuZPU_jSPDV"
      },
      "execution_count": null,
      "outputs": []
    },
    {
      "cell_type": "markdown",
      "source": [
        "The number of operations generated is one less than the number of elements in sampled numbers. This makes sense, since, for example, to perform operations between 3 numbers (such as a + b - c),"
      ],
      "metadata": {
        "id": "le6QuLFpUS8M"
      }
    },
    {
      "cell_type": "code",
      "source": [
        "def generate_equation(sampled_numbers, sampled_operations):\n",
        "  for operation_idx in range(len(sampled_operations)):\n",
        "    if operation_idx == 0:\n",
        "      intermediary_result_number = sampled_numbers[operation_idx]\n",
        "      intermediary_result_string = sampled_numbers[operation_idx]\n",
        "    current_operation = sampled_operations[operation_idx]\n",
        "    next_number = sampled_numbers[operation_idx+1]\n",
        "    intermediary_result_number = apply_operation_result(intermediary_result_number, current_operation, next_number)\n",
        "    intermediary_result_string = apply_operation_string(intermediary_result_string, current_operation, next_number)\n",
        "\n",
        "  intermediary_result_string = \"\".join([intermediary_result_string, \"=\", str(intermediary_result_number)])+\"!\"\n",
        "  length = len(intermediary_result_string)\n",
        "  if length < 18:\n",
        "    empty_space_to_add = \" \".join([\"\" for i in range(18 -length+1)])\n",
        "    intermediary_result_string = intermediary_result_string + empty_space_to_add\n",
        "\n",
        "  return intermediary_result_number, intermediary_result_string"
      ],
      "metadata": {
        "id": "JnGUhyyoUUzU"
      },
      "execution_count": null,
      "outputs": []
    },
    {
      "cell_type": "code",
      "source": [
        "def generate_data_points(number_of_sequences):\n",
        "  data_strings = []\n",
        "  data_results = []\n",
        "  while len(data_strings) < number_of_sequences:\n",
        "    sampled_numbers = generate_numbers()\n",
        "    sampled_operations = generate_operations(sampled_numbers)\n",
        "    equation_result, equation_string = generate_equation(sampled_numbers, sampled_operations)\n",
        "    if (equation_result <= 100) and (equation_result >= 0):\n",
        "      data_strings.append(equation_string)\n",
        "      data_results.append(equation_result)\n",
        "  return data_strings, data_results"
      ],
      "metadata": {
        "id": "JMH5nPXOVZuK"
      },
      "execution_count": null,
      "outputs": []
    },
    {
      "cell_type": "code",
      "source": [
        "strings, results = generate_data_points(100)"
      ],
      "metadata": {
        "id": "oRHO1-GLWN2t"
      },
      "execution_count": null,
      "outputs": []
    },
    {
      "cell_type": "code",
      "source": [
        "\n",
        "strings"
      ],
      "metadata": {
        "colab": {
          "base_uri": "https://localhost:8080/"
        },
        "id": "LmoVSAPSWP-v",
        "outputId": "a8f90258-5776-4574-de5e-0256e742d7df"
      },
      "execution_count": null,
      "outputs": [
        {
          "output_type": "execute_result",
          "data": {
            "text/plain": [
              "['95-53+78-60=60!   ',\n",
              " '29+71=100!        ',\n",
              " '23+39+84-92-40=14!',\n",
              " '91-4=87!          ',\n",
              " '82+33-53=62!      ',\n",
              " '53+77-84=46!      ',\n",
              " '86-82=4!          ',\n",
              " '1*83-37-23+49=72! ',\n",
              " '16-26-9+75=56!    ',\n",
              " '92-67=25!         ',\n",
              " '80-42+32+28=98!   ',\n",
              " '60+28=88!         ',\n",
              " '54+14-54=14!      ',\n",
              " '77-57=20!         ',\n",
              " '64-6+56-34=80!    ',\n",
              " '48-72+25+80=81!   ',\n",
              " '38+77-63=52!      ',\n",
              " '53+44-75=22!      ',\n",
              " '3+40+91-34=100!   ',\n",
              " '93-27-48=18!      ',\n",
              " '86+14-3*0=0!      ',\n",
              " '35-31=4!          ',\n",
              " '3+60-48+17=32!    ',\n",
              " '37*3+43-77=77!    ',\n",
              " '63+99-85-2-41=34! ',\n",
              " '94-65+96+36-78=83!',\n",
              " '64-58+24=30!      ',\n",
              " '35+46-5=76!       ',\n",
              " '4+23=27!          ',\n",
              " '32+37=69!         ',\n",
              " '15-3=12!          ',\n",
              " '5+69=74!          ',\n",
              " '34-23=11!         ',\n",
              " '66-25-29+32=44!   ',\n",
              " '86-94-0+30=22!    ',\n",
              " '56-70+65=51!      ',\n",
              " '81-43+34-85+39=26!',\n",
              " '65-24+18=59!      ',\n",
              " '25-20+78=83!      ',\n",
              " '14+72=86!         ',\n",
              " '29+4+56=89!       ',\n",
              " '42-55-56+34*0=0!  ',\n",
              " '33+59=92!         ',\n",
              " '84-18=66!         ',\n",
              " '94+48-92=50!      ',\n",
              " '48+76-61-47=16!   ',\n",
              " '5*40-10-45-67=78! ',\n",
              " '2-8+82=76!        ',\n",
              " '74-11=63!         ',\n",
              " '10+34=44!         ',\n",
              " '6-5=1!            ',\n",
              " '47-23+2=26!       ',\n",
              " '98-79=19!         ',\n",
              " '46+13=59!         ',\n",
              " '66+28=94!         ',\n",
              " '60-77+97=80!      ',\n",
              " '16+67=83!         ',\n",
              " '36*87*13*0+15=15! ',\n",
              " '29+91-56+35=99!   ',\n",
              " '79-91-78+93=3!    ',\n",
              " '58-49*8=72!       ',\n",
              " '56-21=35!         ',\n",
              " '70+0=70!          ',\n",
              " '97+80+66-96-60=87!',\n",
              " '83-93+58+5=53!    ',\n",
              " '28+6+88*0*28=0!   ',\n",
              " '11+62=73!         ',\n",
              " '64-38+27+37-51=39!',\n",
              " '19-34+66=51!      ',\n",
              " '22+63-51=34!      ',\n",
              " '53+33+4-55+8=43!  ',\n",
              " '74+98+40-91-65=56!',\n",
              " '86-50+77-17=96!   ',\n",
              " '96-88-51+61=18!   ',\n",
              " '45-36=9!          ',\n",
              " '70-18+0=52!       ',\n",
              " '96-28-55+59-65=7! ',\n",
              " '34+43-20=57!      ',\n",
              " '86+46+80-97-60=55!',\n",
              " '55+19=74!         ',\n",
              " '66+10-43=33!      ',\n",
              " '25+33=58!         ',\n",
              " '68-4=64!          ',\n",
              " '78*59*0*0=0!      ',\n",
              " '8+17+9=34!        ',\n",
              " '37-14=23!         ',\n",
              " '74+13=87!         ',\n",
              " '39*1*2=78!        ',\n",
              " '19-19=0!          ',\n",
              " '68+3-25+64-68=42! ',\n",
              " '25+48=73!         ',\n",
              " '77-2=75!          ',\n",
              " '42-19=23!         ',\n",
              " '53-25=28!         ',\n",
              " '43-12+15=46!      ',\n",
              " '94-92=2!          ',\n",
              " '56+3+57-70=46!    ',\n",
              " '45+36=81!         ',\n",
              " '34+19-72+88+28=97!',\n",
              " '9*3=27!           ']"
            ]
          },
          "metadata": {},
          "execution_count": 9
        }
      ]
    },
    {
      "cell_type": "code",
      "source": [
        "results"
      ],
      "metadata": {
        "colab": {
          "base_uri": "https://localhost:8080/"
        },
        "id": "qZZGiP5qWT4F",
        "outputId": "bd4742c6-8325-4958-8f2a-0036abb18051"
      },
      "execution_count": null,
      "outputs": [
        {
          "output_type": "execute_result",
          "data": {
            "text/plain": [
              "[60,\n",
              " 100,\n",
              " 14,\n",
              " 87,\n",
              " 62,\n",
              " 46,\n",
              " 4,\n",
              " 72,\n",
              " 56,\n",
              " 25,\n",
              " 98,\n",
              " 88,\n",
              " 14,\n",
              " 20,\n",
              " 80,\n",
              " 81,\n",
              " 52,\n",
              " 22,\n",
              " 100,\n",
              " 18,\n",
              " 0,\n",
              " 4,\n",
              " 32,\n",
              " 77,\n",
              " 34,\n",
              " 83,\n",
              " 30,\n",
              " 76,\n",
              " 27,\n",
              " 69,\n",
              " 12,\n",
              " 74,\n",
              " 11,\n",
              " 44,\n",
              " 22,\n",
              " 51,\n",
              " 26,\n",
              " 59,\n",
              " 83,\n",
              " 86,\n",
              " 89,\n",
              " 0,\n",
              " 92,\n",
              " 66,\n",
              " 50,\n",
              " 16,\n",
              " 78,\n",
              " 76,\n",
              " 63,\n",
              " 44,\n",
              " 1,\n",
              " 26,\n",
              " 19,\n",
              " 59,\n",
              " 94,\n",
              " 80,\n",
              " 83,\n",
              " 15,\n",
              " 99,\n",
              " 3,\n",
              " 72,\n",
              " 35,\n",
              " 70,\n",
              " 87,\n",
              " 53,\n",
              " 0,\n",
              " 73,\n",
              " 39,\n",
              " 51,\n",
              " 34,\n",
              " 43,\n",
              " 56,\n",
              " 96,\n",
              " 18,\n",
              " 9,\n",
              " 52,\n",
              " 7,\n",
              " 57,\n",
              " 55,\n",
              " 74,\n",
              " 33,\n",
              " 58,\n",
              " 64,\n",
              " 0,\n",
              " 34,\n",
              " 23,\n",
              " 87,\n",
              " 78,\n",
              " 0,\n",
              " 42,\n",
              " 73,\n",
              " 75,\n",
              " 23,\n",
              " 28,\n",
              " 46,\n",
              " 2,\n",
              " 46,\n",
              " 81,\n",
              " 97,\n",
              " 27]"
            ]
          },
          "metadata": {},
          "execution_count": 10
        }
      ]
    },
    {
      "cell_type": "code",
      "source": [
        "operations = [\"-\", \"+\", \"*\"] + [\"=\"] + [\"!\", \" \"]\n",
        "numbers = [str(i) for i in range(10)]\n",
        "chars = sorted(list(set(operations + numbers)))\n",
        "vocab_size = len(chars)\n",
        "print(chars)\n",
        "print(vocab_size)"
      ],
      "metadata": {
        "colab": {
          "base_uri": "https://localhost:8080/"
        },
        "id": "1HAQSXaXWeIQ",
        "outputId": "e269650e-491a-461d-bf95-4c90675cc21d"
      },
      "execution_count": null,
      "outputs": [
        {
          "output_type": "stream",
          "name": "stdout",
          "text": [
            "[' ', '!', '*', '+', '-', '0', '1', '2', '3', '4', '5', '6', '7', '8', '9', '=']\n",
            "16\n"
          ]
        }
      ]
    },
    {
      "cell_type": "code",
      "source": [
        "stoi = {ch:i for i, ch in enumerate(chars)}\n",
        "itos = {i:ch for i, ch in enumerate(chars)}\n",
        "encode = lambda s: [stoi[c] for c in s] # takes a string, and ouputs a list of integers\n",
        "decode = lambda l: ''.join([itos[i] for i in l]) # takes a list of integers, and ouputs a string"
      ],
      "metadata": {
        "id": "prh2qyygWigP"
      },
      "execution_count": null,
      "outputs": []
    }
  ]
}